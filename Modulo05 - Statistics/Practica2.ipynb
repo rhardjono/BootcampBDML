{
 "cells": [
  {
   "cell_type": "markdown",
   "metadata": {},
   "source": [
    "# Introducción\n",
    "\n",
    "En esta práctica vamos a repasar diferentes tests estadísticos. Para ello nos ayudamos de los datos publicados por BCSC:\n",
    "*NCI-funded Breast Cancer Surveillance Consortium (P01 CA154292 and HHSN261201100031C). Downloaded mm/dd/yyyy from the Breast Cancer Surveillance Consortium Web site - http://www.bcsc-research.org/data/index.html.*\n",
    "\n",
    "Concretamente a través de este enlace:\n",
    "http://www.bcsc-research.org/data/rf/app2/DownloadRequest.aspx\n",
    "\n",
    "\n",
    "El fichero *BCSC_risk_factors_summarized.csv* descargado lo teneis en la carpeta *data*.\n",
    "\n",
    "Ese fichero es un CSV, la descripción de cada columna se puede ver en la siguiente tabla:"
   ]
  },
  {
   "cell_type": "markdown",
   "metadata": {},
   "source": [
    "\n",
    "| Nombre de variable | Descripción | Código | \n",
    "|-|-|-|\n",
    "| year | Año de la observación | Numérico, 2000-2009 |\n",
    "| year_group_5_years| Edad (años) en grupos de 5 años |  1 = Edad 18-29;  2 = Edad 30-34; 3 = Edad 35-39; 4 = Edad 40-44; 5 = Edad 45-49; 6 = Edad 50-54; 7 = Edad 55-59; 8 = Edad 60-64; 9 = Edad 65-69; 10 = Edad 70-74; 11 = Edad 75-79; 12 = Edad 80-84; 13 = Edad ≥85 |\n",
    "| race_eth | Grupo étnico | 1 = Non-Hispanic white; 2 = Non-Hispanic black; 3 = Asian/Pacific Islander; 4 = Native American; 5 = Hispanic; 6 = Other/mixed; 9 = Desconocido |\n",
    "| first_degree_hx | Historial de cancer de un familiar de primer grado | 0 = No; 1 = Sí; 9 = Desconocido |\n",
    "| Edad_menarche | Edad (años) at menarche |0 = Edad ≥14; 1 = Edad 12-13; 2 = Edad <12; 9 = Desconocido\n",
    "| Edad_first_birth | Edad (años) at first birth | 0 = Edad < 20; 1 = Edad 20-24; 2 = Edad 25-29; 3 = Edad ≥30; 4 = Nulliparous; 9 = Desconocido |\n",
    "| BIRADS_breast_density | BI-RADS densidad del cancer de pecho| 1 = Almost entirely fat; 2 =Scattered fibroglandular densities; 3 = Heterogeneously dense; 4 = Extremely dense; 9 = Desconocido |\n",
    "| current_hrt | Uso de terapia de hormonas de reemplazo | 0 = No; 1 = Sí; 9 = Desconocido |\n",
    "| menopaus | Menopausal status | 1 = Pre- or peri-menopausal; 2 = Post-menopausal; 3 = Surgical menopause; 9 = Desconocido |\n",
    "| bmi_group |  Body mass index | 1 = 10-24.99; 2 = 25-29.99; 3 = 30-34.99; 4 = 35 or more; 9 = Desconocido |\n",
    "| biophx | Biopsia previa o aspiración | 0 = No; 1 = Sí; 9 = Desconocido |\n",
    "| breast_cancer_history | Cancer diagnosticado con anterioridad | 0 = No; 1 = Sí; 9 = Desconocido |\n",
    "| count | Número de ocurrencias de estas covariables | Numérico|\n",
    "\n",
    "\n"
   ]
  },
  {
   "cell_type": "markdown",
   "metadata": {},
   "source": [
    "Leemos los datos del csv y los adaptamos. Pasos a seguir:\n",
    "1. Replicamos las filas indicadas por la columna *count*\n",
    "2. Los datos son muy grandes, para agilizar la práctica nos quedamos con 5000 muestras elegidas con muestreo aleatorio simple. El resto se puede descartar.\n",
    "3. Se adapta el resto"
   ]
  },
  {
   "cell_type": "code",
   "execution_count": 1,
   "metadata": {},
   "outputs": [],
   "source": [
    "library(ggplot2)\n",
    "bcscRiskFactors<-read.csv(\"./datos/BCSC_risk_factors_summarized.csv\", sep = \",\")\n",
    "#head(bcscRiskFactors)\n",
    "#tail(bcscRiskFactors)"
   ]
  },
  {
   "cell_type": "code",
   "execution_count": 2,
   "metadata": {},
   "outputs": [],
   "source": [
    "#str(bcscRiskFactors)   # 1144564 observations of 13 variables"
   ]
  },
  {
   "cell_type": "code",
   "execution_count": 3,
   "metadata": {},
   "outputs": [],
   "source": [
    "# Replicamos las filas indicadas por la columna count\n",
    "bcscRiskFactorsReplicate <- bcscRiskFactors[rep(seq_len(dim(bcscRiskFactors)[1]), bcscRiskFactors$count), ]\n",
    "#rownames(bcscRiskFactorsReplicate) <- seq_len(dim(bcscRiskFactorsReplicate)[1])"
   ]
  },
  {
   "cell_type": "code",
   "execution_count": 4,
   "metadata": {},
   "outputs": [],
   "source": [
    "#str(bcscRiskFactorsReplicate)   # 6318638  observations of 13 variables"
   ]
  },
  {
   "cell_type": "markdown",
   "metadata": {},
   "source": [
    "El número de filas tras replicar las filas indicadas por la columna *count* es de 6318638. Como este número es muy alto para la máquina virtual que tenemos vamos a realizar una muestreo aleatorio simple y nos quedaremos con 5000 filas. El resto se descartan.\n",
    "\n",
    "*Nota:*Para el muestreo usad la semilla 12345, de esta forma todos tendresmos exactamente los mismos resultados."
   ]
  },
  {
   "cell_type": "code",
   "execution_count": 5,
   "metadata": {},
   "outputs": [],
   "source": [
    "#Definimos una semilla común para todos:\n",
    "set.seed(12345)"
   ]
  },
  {
   "cell_type": "code",
   "execution_count": 6,
   "metadata": {},
   "outputs": [],
   "source": [
    "#Utiliza muestreo aleatorio simple para quedarnos con 5000 muestras:\n",
    "N <- 5000\n",
    "indices <- sample(1:nrow(bcscRiskFactorsReplicate), N, replace = F)\n",
    "bcsc <- bcscRiskFactorsReplicate[indices,]\n",
    "#head(bcsc)"
   ]
  },
  {
   "cell_type": "markdown",
   "metadata": {},
   "source": [
    "Formatear el dataframe:\n",
    "* Cambiamos los *Desconocido* por NA en las columnas \"race_eth\", \"first_degree_hx\", \"age_menarche\", \"age_first_birth\", \"BIRADS_breast_density\", \"current_hrt\", \"menopaus\", \"bmi_group\", \"biophx\", \"breast_cancer_history\"\n",
    "* Convertimos a factores las columnas que vamos a necesitar"
   ]
  },
  {
   "cell_type": "code",
   "execution_count": 7,
   "metadata": {},
   "outputs": [],
   "source": [
    "# Codificacion: 9 = Desconocido\n",
    "colsDesconocidoNAFormat = c(\"race_eth\", \"first_degree_hx\", \"age_menarche\", \"age_first_birth\", \"BIRADS_breast_density\", \"current_hrt\", \"menopaus\", \"bmi_group\", \"biophx\", \"breast_cancer_history\")\n",
    "bcsc[, colsDesconocidoNAFormat][bcsc[, colsDesconocidoNAFormat] == 9] <- NA"
   ]
  },
  {
   "cell_type": "code",
   "execution_count": 8,
   "metadata": {},
   "outputs": [],
   "source": [
    "# Factor format: age_group_5_years\n",
    "bcsc$age_group_5_years <- factor(bcsc$age_group_5_years, \n",
    "    levels=c(1,2,3,4,5,6,7,8,9,10,11,12,13),\n",
    "    labels=c('Edad 18-29','Edad 30-34','Edad 35-39','Edad 40-44','Edad 45-49','Edad 50-54','Edad 55-59','Edad 60-64','Edad 65-69','Edad 70-74','Edad 75-79','Edad 80-84','Edad >= 85'))"
   ]
  },
  {
   "cell_type": "code",
   "execution_count": 9,
   "metadata": {},
   "outputs": [],
   "source": [
    "# Factor format: race_eth\n",
    "bcsc$race_eth <- factor(bcsc$race_eth,\n",
    "    levels=c(1,2,3,4,5,6),\n",
    "    labels=c('Non-Hispanic white','Non-Hispanic black','Asian/Pacific Islander','Native American','Hispanic','Other/mixed'))"
   ]
  },
  {
   "cell_type": "code",
   "execution_count": 10,
   "metadata": {},
   "outputs": [],
   "source": [
    "# Factor format: first_degree_hx\n",
    "bcsc$first_degree_hx <- factor(bcsc$first_degree_hx, \n",
    "    levels=c(0,1),\n",
    "    labels=c('No','Sí'))"
   ]
  },
  {
   "cell_type": "code",
   "execution_count": null,
   "metadata": {},
   "outputs": [],
   "source": [
    "# Factor format: \n",
    "#bcsc$age_menarche <- factor(bcsc$age_menarche, \n",
    "#    levels=c(0,1,2),\n",
    "#    labels=c('Edad ≥14','Edad 12-13','Edad <12'))"
   ]
  },
  {
   "cell_type": "code",
   "execution_count": null,
   "metadata": {},
   "outputs": [],
   "source": [
    "# Factor format: \n",
    "#bcsc$age_first_birth <- factor(bcsc$age_first_birth, \n",
    "#    levels=c(0,1,2,3,4),\n",
    "#    labels=c('Edad < 20','Edad 20-24','Edad 25-29','Edad ≥30','Nulliparous'))"
   ]
  },
  {
   "cell_type": "code",
   "execution_count": 11,
   "metadata": {},
   "outputs": [],
   "source": [
    "# Factor format: BIRADS_breast_density\n",
    "bcsc$BIRADS_breast_density <- factor(bcsc$BIRADS_breast_density, \n",
    "    levels=c(1,2,3,4),\n",
    "    labels=c('Almost entirely fat','Scattered fibroglandular densities','Heterogeneously dense','Extremely dense'))"
   ]
  },
  {
   "cell_type": "code",
   "execution_count": null,
   "metadata": {},
   "outputs": [],
   "source": [
    "# Factor format: \n",
    "#bcsc$current_hrt <- factor(bcsc$current_hrt, \n",
    "#    levels=c(0,1),\n",
    "#    labels=c('No','Sí'))"
   ]
  },
  {
   "cell_type": "code",
   "execution_count": null,
   "metadata": {},
   "outputs": [],
   "source": [
    "# Factor format: \n",
    "#bcsc$menopaus <- factor(bcsc$menopaus, \n",
    "#    levels=c(1,2,3),\n",
    "#    labels=c('Pre- or peri-menopausal','Post-menopausal','Surgical menopause'))"
   ]
  },
  {
   "cell_type": "code",
   "execution_count": null,
   "metadata": {},
   "outputs": [],
   "source": [
    "# Factor format: \n",
    "#bcsc$bmi_group <- factor(bcsc$bmi_group, \n",
    "#    levels=c(1,2,3,4),\n",
    "#    labels=c('10-24.99','25-29.99','30-34.99','35 or more'))"
   ]
  },
  {
   "cell_type": "code",
   "execution_count": null,
   "metadata": {},
   "outputs": [],
   "source": [
    "# Factor format: \n",
    "#bcsc$biophx <- factor(bcsc$biophx, \n",
    "#    levels=c(0,1),\n",
    "#    labels=c('No','Sí'))"
   ]
  },
  {
   "cell_type": "code",
   "execution_count": null,
   "metadata": {},
   "outputs": [],
   "source": [
    "# Factor format: \n",
    "#bcsc$breast_cancer_history <- factor(bcsc$breast_cancer_history, \n",
    "#    levels=c(0,1),\n",
    "#    labels=c('No','Sí'))"
   ]
  },
  {
   "cell_type": "markdown",
   "metadata": {},
   "source": [
    "#### Edad y Antecedentes familiares"
   ]
  },
  {
   "cell_type": "markdown",
   "metadata": {},
   "source": [
    "Creamos una nueva columna con la edad estimada para un posterior análisis"
   ]
  },
  {
   "cell_type": "markdown",
   "metadata": {},
   "source": [
    "Representa en un diagrama de cajas cómo varía la **edad de aparición del cancer** en función de si ha habido **antecedentes familiares** o no.\n",
    "Ayuda:\n",
    "- Hay que crear una nueva columna con la edad estimada de cada rango."
   ]
  },
  {
   "cell_type": "code",
   "execution_count": 12,
   "metadata": {},
   "outputs": [],
   "source": [
    "ageMean <- c(23,32,37,42,47,52,57,62,67,72,77,82,87)\n",
    "bcsc$age_estimated <- ageMean[as.numeric(bcsc$age_group_5_years)]"
   ]
  },
  {
   "cell_type": "code",
   "execution_count": 13,
   "metadata": {},
   "outputs": [
    {
     "data": {},
     "metadata": {},
     "output_type": "display_data"
    },
    {
     "data": {
      "image/png": "[encoded data removed]",
      "text/plain": [
       "plot without title"
      ]
     },
     "metadata": {},
     "output_type": "display_data"
    }
   ],
   "source": [
    "ggplot(data=bcsc, aes(x=first_degree_hx,y=age_estimated)) + geom_boxplot()\n",
    "#boxplot(data=bcsc, age_estimated~first_degree_hx)"
   ]
  },
  {
   "cell_type": "markdown",
   "metadata": {},
   "source": [
    "¿Existe una diferencia estadística significativa entre la edad de aparición del cancer y si hay antecedentes familiares? ¿Que test usarías para comprobarlo?"
   ]
  },
  {
   "cell_type": "code",
   "execution_count": 14,
   "metadata": {},
   "outputs": [
    {
     "data": {
      "text/html": [
       "'La edad estimada para pacientes CON antecedentes familiares no siguen una distribución gaussiana. pvalor: 4.80453766197751e-11'"
      ],
      "text/latex": [
       "'La edad estimada para pacientes CON antecedentes familiares no siguen una distribución gaussiana. pvalor: 4.80453766197751e-11'"
      ],
      "text/markdown": [
       "'La edad estimada para pacientes CON antecedentes familiares no siguen una distribución gaussiana. pvalor: 4.80453766197751e-11'"
      ],
      "text/plain": [
       "[1] \"La edad estimada para pacientes CON antecedentes familiares no siguen una distribución gaussiana. pvalor: 4.80453766197751e-11\""
      ]
     },
     "metadata": {},
     "output_type": "display_data"
    },
    {
     "data": {
      "text/html": [
       "'La edad estimada para pacientes SIN antecedentes familiares no siguen una distribución gaussiana. pvalor: 5.13942109457951e-31'"
      ],
      "text/latex": [
       "'La edad estimada para pacientes SIN antecedentes familiares no siguen una distribución gaussiana. pvalor: 5.13942109457951e-31'"
      ],
      "text/markdown": [
       "'La edad estimada para pacientes SIN antecedentes familiares no siguen una distribución gaussiana. pvalor: 5.13942109457951e-31'"
      ],
      "text/plain": [
       "[1] \"La edad estimada para pacientes SIN antecedentes familiares no siguen una distribución gaussiana. pvalor: 5.13942109457951e-31\""
      ]
     },
     "metadata": {},
     "output_type": "display_data"
    }
   ],
   "source": [
    "paste(\"La edad estimada para pacientes CON antecedentes familiares no siguen una distribución gaussiana. pvalor:\",\n",
    "          shapiro.test(bcsc$age_estimated[bcsc$first_degree_hx==\"Sí\"])$p.value)\n",
    "paste(\"La edad estimada para pacientes SIN antecedentes familiares no siguen una distribución gaussiana. pvalor:\",\n",
    "          shapiro.test(bcsc$age_estimated[bcsc$first_degree_hx==\"No\"])$p.value)"
   ]
  },
  {
   "cell_type": "markdown",
   "metadata": {},
   "source": [
    "La edad de aparición del cancer y la existencia de antecedentes familiares no muestran una distribución gaussiana por lo que  aplicamos el Test de Wilcoxon-Mann-Whitney para comprobar diferencias estadísticas entre ellas:"
   ]
  },
  {
   "cell_type": "markdown",
   "metadata": {},
   "source": [
    "Antes observamos que tienen varianzas distintas:"
   ]
  },
  {
   "cell_type": "code",
   "execution_count": 15,
   "metadata": {},
   "outputs": [
    {
     "name": "stderr",
     "output_type": "stream",
     "text": [
      "Warning message in var(x):\n",
      "“Calling var(x) on a factor x is deprecated and will become an error.\n",
      "  Use something like 'all(duplicated(x)[-1L])' to test for a constant vector.”"
     ]
    },
    {
     "data": {
      "text/plain": [
       "\n",
       "\tF test to compare two variances\n",
       "\n",
       "data:  bcsc$first_degree_hx and bcsc$age_estimated\n",
       "F = 0.00092091, num df = 4510, denom df = 4999, p-value < 2.2e-16\n",
       "alternative hypothesis: true ratio of variances is not equal to 1\n",
       "95 percent confidence interval:\n",
       " 0.0008699841 0.0009749030\n",
       "sample estimates:\n",
       "ratio of variances \n",
       "      0.0009209117 \n"
      ]
     },
     "metadata": {},
     "output_type": "display_data"
    }
   ],
   "source": [
    "var.test(bcsc$first_degree_hx, bcsc$age_estimated)"
   ]
  },
  {
   "cell_type": "code",
   "execution_count": 16,
   "metadata": {},
   "outputs": [
    {
     "data": {
      "text/plain": [
       "\n",
       "\tWilcoxon rank sum test with continuity correction\n",
       "\n",
       "data:  age_estimated by first_degree_hx\n",
       "W = 1239200, p-value = 2.339e-06\n",
       "alternative hypothesis: true location shift is not equal to 0\n"
      ]
     },
     "metadata": {},
     "output_type": "display_data"
    }
   ],
   "source": [
    "wilcox.test(age_estimated ~ first_degree_hx, data=bcsc)"
   ]
  },
  {
   "cell_type": "markdown",
   "metadata": {},
   "source": [
    "La hipótesis nula es que ambas distribuciones son iguales, dado que el valor de  p-value es muy bajo (2.339e-06) se rechaza la hipótesis nula y por tanto podemos asumir que la edad de aparición del cancer es dependiente de que existan antecedentes familiares."
   ]
  },
  {
   "cell_type": "markdown",
   "metadata": {},
   "source": [
    "Dibuja la curva de densidad de probabilidad de cómo varía la edad de aparición del cancer en función de si ha habido antecedentes familiares o no."
   ]
  },
  {
   "cell_type": "code",
   "execution_count": 17,
   "metadata": {},
   "outputs": [
    {
     "data": {},
     "metadata": {},
     "output_type": "display_data"
    },
    {
     "data": {
      "image/png": "[encoded data removed]",
      "text/plain": [
       "plot without title"
      ]
     },
     "metadata": {},
     "output_type": "display_data"
    }
   ],
   "source": [
    "ggplot(data=bcsc, aes(x=age_estimated,fill=first_degree_hx)) + geom_density(alpha = 0.3)"
   ]
  },
  {
   "cell_type": "markdown",
   "metadata": {},
   "source": [
    "#### Edad y BIRADS"
   ]
  },
  {
   "cell_type": "markdown",
   "metadata": {},
   "source": [
    "Representa en un diagrama de cajas cómo varía la edad de aparición del cancer en función de la densidad del cancder (BIRADS)."
   ]
  },
  {
   "cell_type": "code",
   "execution_count": 18,
   "metadata": {},
   "outputs": [
    {
     "data": {},
     "metadata": {},
     "output_type": "display_data"
    },
    {
     "data": {
      "image/png": "[encoded data removed]",
      "text/plain": [
       "plot without title"
      ]
     },
     "metadata": {},
     "output_type": "display_data"
    }
   ],
   "source": [
    "ggplot(data=bcsc, aes(x=BIRADS_breast_density,y=age_estimated)) + geom_boxplot() + coord_flip()\n",
    "#boxplot(data=bcsc, age_estimated~BIRADS_breast_density)"
   ]
  },
  {
   "cell_type": "markdown",
   "metadata": {},
   "source": [
    "¿Existe una evidencia estadística significativa para decir que la edad en la que se detecta el cancer depende de la densidad del cancer (BIRADS)?\n",
    "\n",
    "¿Que test habría que aplicar?"
   ]
  },
  {
   "cell_type": "code",
   "execution_count": 19,
   "metadata": {},
   "outputs": [
    {
     "data": {
      "text/plain": [
       "                                    \n",
       "                                      23  32  37  42  47  52  57  62  67  72\n",
       "  Almost entirely fat                  1   3   4  19  29  48  44  39  35  38\n",
       "  Scattered fibroglandular densities   0   6  36 177 204 268 261 186 170 161\n",
       "  Heterogeneously dense                5  13  54 225 240 242 196 157 123  81\n",
       "  Extremely dense                      2   1  15  54  58  50  35  19   8   6\n",
       "                                    \n",
       "                                      77  82  87\n",
       "  Almost entirely fat                 20   8   9\n",
       "  Scattered fibroglandular densities 100  63  33\n",
       "  Heterogeneously dense               54  36  25\n",
       "  Extremely dense                      6   1   1"
      ]
     },
     "metadata": {},
     "output_type": "display_data"
    },
    {
     "data": {
      "text/plain": [
       "\n",
       "\tPearson's Chi-squared test with simulated p-value (based on 2000\n",
       "\treplicates)\n",
       "\n",
       "data:  M\n",
       "X-squared = 182.5, df = NA, p-value = 0.0004998\n"
      ]
     },
     "metadata": {},
     "output_type": "display_data"
    }
   ],
   "source": [
    "M <- table(bcsc$BIRADS_breast_density, bcsc$age_estimated)\n",
    "M\n",
    "cqt<-chisq.test(M,simulate.p.value = TRUE)\n",
    "cqt"
   ]
  },
  {
   "cell_type": "markdown",
   "metadata": {},
   "source": [
    "Que se detecte el cancer a una edad determinada no se puede relacionar con el tipo de cancer que padece la mujer."
   ]
  },
  {
   "cell_type": "markdown",
   "metadata": {},
   "source": [
    "#### Tablas de contingencia: BIRADS"
   ]
  },
  {
   "cell_type": "markdown",
   "metadata": {},
   "source": [
    "¿Todos los  tipos de cancer (BIRADS) son igual de probables? ¿Con que test lo comprobarías?"
   ]
  },
  {
   "cell_type": "markdown",
   "metadata": {},
   "source": [
    "Realizamos un test de homogeneidad mediante la aplicación del Test chi cuadrado de Pearson"
   ]
  },
  {
   "cell_type": "code",
   "execution_count": 20,
   "metadata": {},
   "outputs": [
    {
     "data": {
      "text/plain": [
       "\n",
       "\tChi-squared test for given probabilities\n",
       "\n",
       "data:  observed\n",
       "X-squared = 1816.3, df = 3, p-value < 2.2e-16\n"
      ]
     },
     "metadata": {},
     "output_type": "display_data"
    }
   ],
   "source": [
    "#Test chi cuadrado \n",
    "observed <- table(bcsc$BIRADS_breast_density)   # table(as.numeric(bcsc$BIRADS_breast_density))\n",
    "cqt <- chisq.test(observed)\n",
    "cqt"
   ]
  },
  {
   "cell_type": "code",
   "execution_count": 21,
   "metadata": {},
   "outputs": [
    {
     "data": {
      "text/plain": [
       "\n",
       "\tFisher's Exact Test for Count Data\n",
       "\n",
       "data:  M\n",
       "p-value < 2.2e-16\n",
       "alternative hypothesis: true odds ratio is not equal to 1\n",
       "95 percent confidence interval:\n",
       " 0.02615158 0.03789311\n",
       "sample estimates:\n",
       "odds ratio \n",
       "0.03152222 \n"
      ]
     },
     "metadata": {},
     "output_type": "display_data"
    }
   ],
   "source": [
    "#Test Fisher\n",
    "M <- matrix(observed,ncol=2)\n",
    "fisher.test(M)"
   ]
  },
  {
   "cell_type": "markdown",
   "metadata": {},
   "source": [
    "El test chi cuadrado nos indica que los distintos tipos de cancer (BIRADs) tienen distintas probabilidades de aparecer.\n",
    "Para verificarlo se ha realizado también el test de Fisher con mismo resultado."
   ]
  },
  {
   "cell_type": "markdown",
   "metadata": {},
   "source": [
    "¿Cual es el tipo de cancer (BIRADS) más común? ¿Con qué proporción?"
   ]
  },
  {
   "cell_type": "code",
   "execution_count": 22,
   "metadata": {},
   "outputs": [
    {
     "data": {
      "text/plain": [
       "BIRADS_breast_density\n",
       "               Almost entirely fat Scattered fibroglandular densities \n",
       "                               297                               1665 \n",
       "             Heterogeneously dense                    Extremely dense \n",
       "                              1451                                256 "
      ]
     },
     "metadata": {},
     "output_type": "display_data"
    }
   ],
   "source": [
    "#M <- table(bcsc$BIRADS_breast_density)\n",
    "M <- xtabs(~ BIRADS_breast_density, bcsc)\n",
    "M"
   ]
  },
  {
   "cell_type": "code",
   "execution_count": 23,
   "metadata": {},
   "outputs": [
    {
     "data": {
      "text/plain": [
       "BIRADS_breast_density\n",
       "               Almost entirely fat Scattered fibroglandular densities \n",
       "                        0.08094849                         0.45380213 \n",
       "             Heterogeneously dense                    Extremely dense \n",
       "                        0.39547561                         0.06977378 "
      ]
     },
     "metadata": {},
     "output_type": "display_data"
    }
   ],
   "source": [
    "F <- prop.table(M)\n",
    "F"
   ]
  },
  {
   "cell_type": "code",
   "execution_count": null,
   "metadata": {},
   "outputs": [],
   "source": [
    "print(paste(\"El tipo de cancer más común es\", names(F)[which.max(F)], \"con un\", round(max(F)*100,2), \"%\"))"
   ]
  },
  {
   "cell_type": "markdown",
   "metadata": {},
   "source": [
    "¿Depende el tipo de cancer (BIRADS) de si ha habido o no antecedentes familiares?"
   ]
  },
  {
   "cell_type": "code",
   "execution_count": 24,
   "metadata": {},
   "outputs": [
    {
     "data": {
      "text/plain": [
       "\n",
       "\tPearson's Chi-squared test\n",
       "\n",
       "data:  M_Birads_Antecedentes\n",
       "X-squared = 4.2475, df = 3, p-value = 0.236\n"
      ]
     },
     "metadata": {},
     "output_type": "display_data"
    }
   ],
   "source": [
    "M_Birads_Antecedentes <- table(bcsc$BIRADS_breast_density, bcsc$first_degree_hx)\n",
    "cqt<-chisq.test(M_Birads_Antecedentes)\n",
    "cqt"
   ]
  },
  {
   "cell_type": "markdown",
   "metadata": {},
   "source": [
    "¿Depende el tipo de cancer BIRADS del grupo étnico?"
   ]
  },
  {
   "cell_type": "code",
   "execution_count": 25,
   "metadata": {},
   "outputs": [
    {
     "name": "stderr",
     "output_type": "stream",
     "text": [
      "Warning message in chisq.test(M_Birads_Etnico):\n",
      "“Chi-squared approximation may be incorrect”"
     ]
    },
    {
     "data": {
      "text/plain": [
       "\n",
       "\tPearson's Chi-squared test\n",
       "\n",
       "data:  M_Birads_Etnico\n",
       "X-squared = 48.684, df = 15, p-value = 1.971e-05\n"
      ]
     },
     "metadata": {},
     "output_type": "display_data"
    }
   ],
   "source": [
    "M_Birads_Etnico <- table(bcsc$BIRADS_breast_density, bcsc$race_eth)\n",
    "cqt<-chisq.test(M_Birads_Etnico)\n",
    "cqt"
   ]
  },
  {
   "cell_type": "markdown",
   "metadata": {},
   "source": [
    "Para determinar si el tipo de cancer depende de si ha habido o no antecedentes familiares o del grupo étnico hemos realizado un test de independencia con el test chi cuadrado.\n",
    "Por los resultados, podemos rechazar la hipótesis nula y asumir que no hay elación de dependencia entre ellos."
   ]
  },
  {
   "cell_type": "markdown",
   "metadata": {},
   "source": [
    "* El mensaje de warning nos indica que existen valores bajos (habitualmente menores de 5)"
   ]
  },
  {
   "cell_type": "markdown",
   "metadata": {},
   "source": [
    "¿Cual es la probabilidad (con su margen de error del 95%) de que un *Native American* tenga un cancer de tipo *Almost entirely fat*?\n",
    "\n",
    "*Aviso*: Cuidado con los NA"
   ]
  },
  {
   "cell_type": "code",
   "execution_count": 26,
   "metadata": {},
   "outputs": [
    {
     "name": "stdout",
     "output_type": "stream",
     "text": [
      "[1] \"Probabilidad: 0.000303122158229767  Éxitos: 1  Eventos totales: 3299\"\n",
      "[1] \"Intervalo de confianza del 95%: [-0.000442457383379565,0.0010487016998391]\"\n"
     ]
    },
    {
     "data": {
      "text/plain": [
       "\n",
       "\t1-sample proportions test with continuity correction\n",
       "\n",
       "data:  ns out of n, null probability 0.5\n",
       "X-squared = 3293, df = 1, p-value < 2.2e-16\n",
       "alternative hypothesis: true p is not equal to 0.5\n",
       "95 percent confidence interval:\n",
       " 1.582322e-05 1.966372e-03\n",
       "sample estimates:\n",
       "           p \n",
       "0.0003031222 \n"
      ]
     },
     "metadata": {},
     "output_type": "display_data"
    }
   ],
   "source": [
    "#M_Birads_Etnico <- table(bcsc$BIRADS_breast_density, bcsc$race_eth)\n",
    "F_Birads_Etnico <- prop.table(M_Birads_Etnico)\n",
    "\n",
    "#n  <- 3298   # Hay que tener en cuenta los NA por lo que no es valido: n  <- dim(bcsc)[1]\n",
    "n  <- sum(M_Birads_Etnico)\n",
    "ns <- M_Birads_Etnico[\"Almost entirely fat\", \"Native American\"]\n",
    "#p_ <- ns/n\n",
    "p_ <- F_Birads_Etnico[\"Almost entirely fat\", \"Native American\"]\n",
    "\n",
    "print(paste(\"Probabilidad:\",p_,\" Éxitos:\",ns,\" Eventos totales:\",n))\n",
    "\n",
    "############### Intervalo de confianza del 95% ###############\n",
    "# Nivel de confianza\n",
    "# 95% --> Z = 1.96\n",
    "# 99% --> Z = 2.57\n",
    "\n",
    "pval  <- 0.05\n",
    "fCorrector <- 1/(2*n)\n",
    "error <- qnorm(pval/2,lower.tail = F) * sqrt(p_*(1-p_)/n) + fCorrector\n",
    "print(paste0(\"Intervalo de confianza del 95%: [\", p_-error, \",\", p_+error, \"]\"))\n",
    "\n",
    "#\n",
    "prop.test(ns, n, conf.level = 1-pval)"
   ]
  }
 ],
 "metadata": {
  "kernelspec": {
   "display_name": "R",
   "language": "R",
   "name": "ir"
  },
  "language_info": {
   "codemirror_mode": "r",
   "file_extension": ".r",
   "mimetype": "text/x-r-source",
   "name": "R",
   "pygments_lexer": "r",
   "version": "3.2.3"
  }
 },
 "nbformat": 4,
 "nbformat_minor": 1
}
