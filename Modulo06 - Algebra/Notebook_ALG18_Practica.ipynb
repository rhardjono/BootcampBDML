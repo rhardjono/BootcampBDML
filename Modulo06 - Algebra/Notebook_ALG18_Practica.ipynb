{
 "cells": [
  {
   "cell_type": "markdown",
   "metadata": {},
   "source": [
    "# Practica de Algebra lineal\n",
    "\n",
    "### *Nombre*"
   ]
  },
  {
   "cell_type": "markdown",
   "metadata": {},
   "source": [
    "<span style=\"color:blue\">Ejercicio 1:  \n",
    "Usando los procedimientos add y mult_vector_escalar definidos anteriormente, calcular:   \n",
    "{$\\alpha$[1,2]+[3,4] : $\\alpha$$\\in$$\\mathbb{R}$, 0$\\leq$$\\alpha$$\\leq$1, con una precision de dos decimales (para la multiplicación)}</style>"
   ]
  },
  {
   "cell_type": "code",
   "execution_count": 2,
   "metadata": {
    "collapsed": true
   },
   "outputs": [],
   "source": [
    "import numpy as np"
   ]
  },
  {
   "cell_type": "markdown",
   "metadata": {},
   "source": [
    "+ Forma 1"
   ]
  },
  {
   "cell_type": "code",
   "execution_count": 126,
   "metadata": {},
   "outputs": [
    {
     "data": {
      "text/plain": [
       "[3.5, 5.0]"
      ]
     },
     "execution_count": 126,
     "metadata": {},
     "output_type": "execute_result"
    }
   ],
   "source": [
    "def add(v,w):\n",
    "    return [v[0]+w[0],v[1]+w[1]]\n",
    "def addn(v,w):\n",
    "    return [v[i]+w[i] for i in range(len(v))]\n",
    "def mult_vector_escalar(alpha,v):\n",
    "    return [alpha*v[i] for i in range(len(v))]\n",
    "\n",
    "# alpha∈ℝ, 0≤ alpha ≤1\n",
    "#alpha = np.linspace(0, 1, 100)\n",
    "alpha = 0.5\n",
    "\n",
    "# arrays\n",
    "v1 = np.array([1, 2])\n",
    "v2 = np.array([3, 4])\n",
    "\n",
    "# resultado\n",
    "addn(mult_vector_escalar(alpha, v1), v2)\n",
    "#np.asarray(resultado)\n"
   ]
  },
  {
   "cell_type": "markdown",
   "metadata": {},
   "source": [
    "+ Forma 2"
   ]
  },
  {
   "cell_type": "code",
   "execution_count": 122,
   "metadata": {},
   "outputs": [
    {
     "name": "stdout",
     "output_type": "stream",
     "text": [
      "[3.0, 4.0]\n",
      "[3.25, 4.5]\n",
      "[3.5, 5.0]\n",
      "[3.75, 5.5]\n",
      "[4.0, 6.0]\n"
     ]
    }
   ],
   "source": [
    "def mult_vector_escalarArray(alpha,v1,v2):\n",
    "    for a in alpha:\n",
    "        print( addn([a*v1[i] for i in range(len(v1))],v2) )\n",
    "\n",
    "# alpha∈ℝ, 0≤ alpha ≤1\n",
    "alpha = np.linspace(0, 1, 5)\n",
    "#alpha = 0.5\n",
    "# arrays\n",
    "v1 = np.array([1, 2])\n",
    "v2 = np.array([3, 4])\n",
    "\n",
    "#addn(mult_vector_escalarArray(alpha, v1), v2)\n",
    "mult_vector_escalarArray(alpha, v1, v2)"
   ]
  },
  {
   "cell_type": "markdown",
   "metadata": {},
   "source": [
    "+ Forma 3 (Final)"
   ]
  },
  {
   "cell_type": "code",
   "execution_count": 314,
   "metadata": {},
   "outputs": [
    {
     "data": {
      "text/plain": [
       "[[3.0, 4.0],\n",
       " [3.01, 4.02],\n",
       " [3.02, 4.04],\n",
       " [3.03, 4.06],\n",
       " [3.04, 4.08],\n",
       " [3.05, 4.1],\n",
       " [3.06, 4.12],\n",
       " [3.07, 4.14],\n",
       " [3.08, 4.16],\n",
       " [3.09, 4.18],\n",
       " [3.1, 4.2]]"
      ]
     },
     "execution_count": 314,
     "metadata": {},
     "output_type": "execute_result"
    }
   ],
   "source": [
    "[add(mult_vector_escalar(i/float(100),[1,2]),[3,4]) for i in range(11)]"
   ]
  },
  {
   "cell_type": "markdown",
   "metadata": {},
   "source": [
    "<span style=\"color:blue\">Ejercicio 2:  \n",
    "Mortadelo y Filemón usan como clave el siguiente vector:</style>  \n",
    "> <span style=\"color:blue\">**k**=[0,1,0,0,1,0,1,0,1,0]</style>  \n",
    "\n",
    "<span style=\"color:blue\">Mortadelo quiere enviarle a Filemón el siguiente mensaje:</style>  \n",
    "> <span style=\"color:blue\">**p**=[0,0,0,1,1,1,0,1,0,1]</style>  \n",
    "\n",
    "<span style=\"color:blue\">Mortadelo encripta su mensaje añadiendo k:</style>  \n",
    "> <span style=\"color:blue\">**c**=**p**+**k**=[0,0,0,1,1,1,0,1,0,1]+[0,1,0,0,1,0,1,0,1,0]=[0,1,0,1,0,1,1,1,1,1]</style>  \n",
    "\n",
    "<span style=\"color:blue\">Cuando Filemón recibe el mensaje, lo desencripta añadiendo **k** a lo que ha recibido</style>  \n",
    "> <span style=\"color:blue\">**p**=**c**+**k**=[0,1,0,1,0,1,1,1,1,1]+[0,1,0,0,1,0,1,0,1,0]=[0,0,0,1,1,1,0,1,0,1]</style>    \n",
    "\n",
    "<span style=\"color:blue\">que es el mensaje original</style>    \n",
    "  \n",
    " <span style=\"color:blue\">¿Cómo lo harías en Python? (Definiendo un procedimiento)</style>  "
   ]
  },
  {
   "cell_type": "code",
   "execution_count": 146,
   "metadata": {},
   "outputs": [
    {
     "name": "stdout",
     "output_type": "stream",
     "text": [
      "('Cifrando:', array([0, 1, 0, 1, 0, 1, 1, 1, 1, 1]))\n",
      "('Descifrando:', array([0, 0, 0, 1, 1, 1, 0, 1, 0, 1]))\n"
     ]
    }
   ],
   "source": [
    "clave = np.array([0,1,0,0,1,0,1,0,1,0])\n",
    "mensaje = np.array([0,0,0,1,1,1,0,1,0,1])\n",
    "cifrado = np.array([0,1,0,1,0,1,1,1,1,1])\n",
    "\n",
    "# resultado_esperado: [ 0,1,0,1,0,1,1,1,1,1 ]\n",
    "# mensaje + clave \n",
    "# resultado_obtenido: [ 0,1,0,1,2,1,1,1,1,1 ]\n",
    "\n",
    "\n",
    "# resultado_esperado: [ 0,0,0,1,1,1,0,1,0,1 ]\n",
    "# cifrado + clave\n",
    "# resultado_obtenido: [ 0,2,0,1,1,1,2,1,2,1 ]\n",
    "\n",
    "def perfectSecret(msg, key):\n",
    "    res = msg + key\n",
    "    for i in range(len(res)):\n",
    "        if(res[i]==2): \n",
    "            res[i]=0\n",
    "    return res\n",
    "\n",
    "# Cifrando...\n",
    "print( \"Cifrando:\", perfectSecret(mensaje, clave) )\n",
    "# Descifrando...\n",
    "print( \"Descifrando:\", perfectSecret(cifrado, clave) )"
   ]
  },
  {
   "cell_type": "markdown",
   "metadata": {},
   "source": [
    "<span style=\"color:blue\">Ejercicio 3: coste total o beneficio. </style>\n",
    "\n",
    "<span style=\"color:blue\">Supongamos que D es el conjunto de algunos ingredientes de la cerveza: </style>\n",
    "> <span style=\"color:blue\">D={lúpulo, malta, agua, levadura}</style>  \n",
    "\n",
    "<span style=\"color:blue\">Por otro lado tenemos el vector coste:</style>  \n",
    "> <span style=\"color:blue\">coste={lúpulo: 2,5€, malta: 1.5€, agua: 0.006€, levadura: 0,45€}</style>  \n",
    "\n",
    "<span style=\"color:blue\">Por último tenemos el vector cantidad con lo necesario para hacer una cerveza:</style>  \n",
    "> <span style=\"color:blue\">cantidad={lúpulo: 6u, malta: 14u, agua: 7u, levadura: 11u}</style>  \n",
    "\n",
    "<span style=\"color:blue\">¿Cuánto cuesta hacer una cerveza?</style> "
   ]
  },
  {
   "cell_type": "code",
   "execution_count": 164,
   "metadata": {},
   "outputs": [
    {
     "name": "stdout",
     "output_type": "stream",
     "text": [
      "('Hacer una cerveza cuesta:', 40.992, 'euros')\n"
     ]
    }
   ],
   "source": [
    "def producto_escalar(u,v):\n",
    "    return sum(u[i]*v[i] for i in range(len(u)))\n",
    "\n",
    "coste = np.array([2.5,1.5,0.006,0.45])\n",
    "cantidad = np.array([6,14,7,11])\n",
    "\n",
    "print(\"Hacer una cerveza cuesta:\", round(producto_escalar(coste, cantidad), 3), \"euros\")"
   ]
  },
  {
   "cell_type": "markdown",
   "metadata": {},
   "source": [
    "<span style=\"color:blue\"> Ejercicio 4:   \n",
    "¿Cómo escribirías cada uno de los vectores {[3,0,0],[0,2,0],[0,0,1]} como combinación lineal de {[2,0,1],[1,0,2],[2,2,2]}?\n",
    "Escribe las combinaciones lineales en Python. Seguramente tenga que definir una nueva suma.</style>"
   ]
  },
  {
   "cell_type": "code",
   "execution_count": 202,
   "metadata": {
    "collapsed": true
   },
   "outputs": [],
   "source": [
    "import sympy as sp\n",
    "from __future__ import division\n",
    "#NOTA\n",
    "#En python 2.x la division devuelve un valor entero, para corregir esta situación podemos:\n",
    "# 1.- from __future__ import division\n",
    "# 2.- Hacer casting del denominado. ex: a / float(b)\n",
    "\n",
    "def addn(v,w):\n",
    "    return[v[i]+w[i] for i in range(len(v))]\n",
    "\n",
    "def mult_vector_escalar(alpha,v):\n",
    "    return [alpha*v[i] for i in range(len(v))]"
   ]
  },
  {
   "cell_type": "code",
   "execution_count": 277,
   "metadata": {},
   "outputs": [
    {
     "name": "stdout",
     "output_type": "stream",
     "text": [
      "Matrix([[2], [-1], [0]])\n",
      "Matrix([[-2/3], [-2/3], [1]])\n",
      "Matrix([[-1/3], [2/3], [0]])\n"
     ]
    }
   ],
   "source": [
    "# A*x = B\n",
    "# Forma1: usando la libreria sympy\n",
    "A = sp.Matrix(( (2,1,2), (0,0,2), (1,2,2) ))\n",
    "B1 = sp.Matrix(3,1,(3,0,0))\n",
    "B2 = sp.Matrix(3,1,(0,2,0))\n",
    "B3 = sp.Matrix(3,1,(0,0,1))\n",
    "x1 = A.LUsolve(B1)\n",
    "x2 = A.LUsolve(B2)\n",
    "x3 = A.LUsolve(B3)\n",
    "\n",
    "print(x1)\n",
    "print(x2)\n",
    "print(x3)"
   ]
  },
  {
   "cell_type": "code",
   "execution_count": 278,
   "metadata": {},
   "outputs": [
    {
     "name": "stdout",
     "output_type": "stream",
     "text": [
      "[[ 2.]\n",
      " [-1.]\n",
      " [ 0.]]\n",
      "[[-0.66666667]\n",
      " [-0.66666667]\n",
      " [ 1.        ]]\n",
      "[[-0.33333333]\n",
      " [ 0.66666667]\n",
      " [ 0.        ]]\n"
     ]
    }
   ],
   "source": [
    "# A*x = B\n",
    "# Forma1: usando la libreria numpy\n",
    "A = np.matrix([\n",
    "    [2,1,2],\n",
    "    [0,0,2],\n",
    "    [1,2,2]\n",
    "])\n",
    "\n",
    "B1 = np.matrix([\n",
    "    [3],\n",
    "    [0],\n",
    "    [0]\n",
    "])\n",
    "B2 = np.matrix([\n",
    "    [0],\n",
    "    [2],\n",
    "    [0]\n",
    "])\n",
    "B3 = np.matrix([\n",
    "    [0],\n",
    "    [0],\n",
    "    [1]\n",
    "])\n",
    "\n",
    "x1 = np.linalg.solve(A,B1)\n",
    "x2 = np.linalg.solve(A,B2)\n",
    "x3 = np.linalg.solve(A,B3)\n",
    "\n",
    "print(x1)\n",
    "print(x2)\n",
    "print(x3)"
   ]
  },
  {
   "cell_type": "markdown",
   "metadata": {},
   "source": [
    "Expresamos las combinaciones lineales en Python"
   ]
  },
  {
   "cell_type": "code",
   "execution_count": 230,
   "metadata": {},
   "outputs": [
    {
     "data": {
      "text/plain": [
       "[3, 0, 0]"
      ]
     },
     "execution_count": 230,
     "metadata": {},
     "output_type": "execute_result"
    }
   ],
   "source": [
    "addn(mult_vector_escalar(2,[2,0,1]), mult_vector_escalar(-1,[1,0,2]))"
   ]
  },
  {
   "cell_type": "code",
   "execution_count": 256,
   "metadata": {},
   "outputs": [
    {
     "data": {
      "text/plain": [
       "[0.0, 2.0, 0.0]"
      ]
     },
     "execution_count": 256,
     "metadata": {},
     "output_type": "execute_result"
    }
   ],
   "source": [
    "addn(addn(mult_vector_escalar(-2/float(3),[2,0,1]), mult_vector_escalar(-2/float(3),[1,0,2])), mult_vector_escalar(1,[2,2,2]))"
   ]
  },
  {
   "cell_type": "code",
   "execution_count": 280,
   "metadata": {},
   "outputs": [
    {
     "data": {
      "text/plain": [
       "[0.0, 0.0, 1.0]"
      ]
     },
     "execution_count": 280,
     "metadata": {},
     "output_type": "execute_result"
    }
   ],
   "source": [
    "addn(addn(mult_vector_escalar(-1/float(3),[2,0,1]), mult_vector_escalar(2/float(3),[1,0,2])), mult_vector_escalar(0,[2,2,2]))"
   ]
  },
  {
   "cell_type": "markdown",
   "metadata": {},
   "source": [
    "<span style=\"color:blue\"> Ejercicio 5:  \n",
    "Dadas las matrices $\n",
    "  A=\n",
    "  \\left[ {\\begin{array}{cc}\n",
    "   2 & -3 \\\\\n",
    "   -4 & 6\\\\\n",
    "  \\end{array} } \\right]\n",
    "$ , $\n",
    "  B=\n",
    "  \\left[ {\\begin{array}{cc}\n",
    "   8 & 4 \\\\\n",
    "   5 & 5\\\\\n",
    "  \\end{array} } \\right]\n",
    "$\n",
    "y $\n",
    "  C=\n",
    "  \\left[ {\\begin{array}{cc}\n",
    "   5 & -2 \\\\\n",
    "   3 & 1\\\\\n",
    "  \\end{array} } \\right]\n",
    "$, queremos verificar que AB=AC pero que B≠C.</style> "
   ]
  },
  {
   "cell_type": "code",
   "execution_count": 333,
   "metadata": {
    "collapsed": true
   },
   "outputs": [],
   "source": [
    "import numpy as np\n",
    "A = np.matrix([\n",
    "    [2,-3],\n",
    "    [-4,6]\n",
    "])\n",
    "B = np.matrix([\n",
    "    [8,4],\n",
    "    [5,5]\n",
    "])\n",
    "C = np.matrix([\n",
    "    [5,-2],\n",
    "    [3,1]\n",
    "])\n",
    "\n",
    "prod1 = A*B\n",
    "prod2 = A*C\n",
    "\n",
    "#PENDIENTE\n",
    "#inv_A = np.linalg.inv(A)\n"
   ]
  },
  {
   "cell_type": "code",
   "execution_count": null,
   "metadata": {
    "collapsed": true
   },
   "outputs": [],
   "source": []
  },
  {
   "cell_type": "markdown",
   "metadata": {},
   "source": [
    "<span style=\"color:blue\"> Ejercicio 6 :  \n",
    "Dadas la matriz $\n",
    "  A=\n",
    "  \\left[ {\\begin{array}{cc}\n",
    "   3 & -6 \\\\\n",
    "   -1 & 2\\\\\n",
    "  \\end{array} } \\right]\n",
    "$ , construye una matriz B de 2 × 2 tal que AB sea igual a la matriz cero. Las columnas de B no deben ser iguales entre sí y deben ser distintas de cero.\n",
    ".</style> "
   ]
  },
  {
   "cell_type": "markdown",
   "metadata": {},
   "source": [
    " $\n",
    "  A=\n",
    "  \\left[ {\\begin{array}{cc}\n",
    "   3 & -6 \\\\\n",
    "   -1 & 2\\\\\n",
    "  \\end{array} } \\right]  \n",
    "   , B=\n",
    "  \\left[ {\\begin{array}{cc}\n",
    "   b11 & b12 \\\\\n",
    "   b21 & b22\\\\\n",
    "  \\end{array} } \\right]\n",
    "$  \n",
    "\n",
    "$\n",
    " A*B=\n",
    "  \\left[ {\\begin{array}{cc}\n",
    "   3b11 -6b21 & 3b12 -6b22 \\\\\n",
    "   -b11 +2b21 & -b12 +2b22\\\\\n",
    "  \\end{array} } \\right] = 0  \n",
    "$  "
   ]
  },
  {
   "cell_type": "markdown",
   "metadata": {},
   "source": [
    "$  \n",
    "  3b11 - 6b21 = 0 \n",
    "$  \n",
    "$\n",
    "  -b11 + 2b21 = 0\n",
    "$ \n",
    "  \n",
    "Fijando b21 = 1 tenemos que b11 = 2"
   ]
  },
  {
   "cell_type": "markdown",
   "metadata": {},
   "source": [
    "$  \n",
    "  3b12 - 6b22 = 0 \n",
    "$  \n",
    "$\n",
    "  -b12 + 2b22 = 0\n",
    "$ \n",
    "\n",
    "Fijando b22 = 2 tenemos que b11 = 4"
   ]
  },
  {
   "cell_type": "code",
   "execution_count": 332,
   "metadata": {},
   "outputs": [
    {
     "data": {
      "text/plain": [
       "matrix([[0, 0],\n",
       "        [0, 0]])"
      ]
     },
     "execution_count": 332,
     "metadata": {},
     "output_type": "execute_result"
    }
   ],
   "source": [
    "A = np.matrix([\n",
    "    [3, -6],\n",
    "    [-1, 2]\n",
    "])\n",
    "B = np.matrix([\n",
    "    [2, 4],\n",
    "    [1, 2]\n",
    "])\n",
    "A * B"
   ]
  },
  {
   "cell_type": "markdown",
   "metadata": {},
   "source": [
    "<span style=\"color:blue\"> Ejercicio 7:  \n",
    "Sarrus para el determinante de orden 3.  \n",
    "¿Cómo lo haríamos en Python?</style>"
   ]
  },
  {
   "cell_type": "code",
   "execution_count": 304,
   "metadata": {},
   "outputs": [
    {
     "data": {
      "text/plain": [
       "-39"
      ]
     },
     "execution_count": 304,
     "metadata": {},
     "output_type": "execute_result"
    }
   ],
   "source": [
    "A=np.matrix([\n",
    "   [1,-4,2],\n",
    "   [-2,8,9],\n",
    "   [-1,7,0]\n",
    "   ])\n",
    "# Calculo de determinante con la funcion det de numpy\n",
    "np.linalg.det(A)\n",
    "\n",
    "# Metodo Sarrus para determinante de orden 3\n",
    "def sarrus(A):\n",
    "    return ((A[0,0]*A[1,1]*A[2,2])+\\\n",
    "           (A[0,1]*A[1,2]*A[2,0])+\\\n",
    "           (A[0,2]*A[1,0]*A[2,1]))-\\\n",
    "          ((A[2,0]*A[1,1]*A[0,2])+\\\n",
    "           (A[2,1]*A[1,2]*A[0,0])+\\\n",
    "           (A[2,2]*A[1,0]*A[0,1]))\n",
    "\n",
    "sarrus(A)"
   ]
  },
  {
   "cell_type": "markdown",
   "metadata": {},
   "source": [
    "<span style=\"color:blue\"> Ejercicio 8:  \n",
    "Sabemos que hay un modo directo en Python para calcular los rangos. Calcula el número de soluciones de estos tres sistemas de ecuaciones empleándolo.</style> "
   ]
  },
  {
   "cell_type": "markdown",
   "metadata": {},
   "source": [
    "Sistema de ecuación 1\n",
    "> <span style=\"color:blue\">x<sub>1</sub> − 2x<sub>2</sub> + x<sub>3</sub> = 0 </style>  \n",
    "> <span style=\"color:blue\">2x<sub>2</sub>−8x<sub>3</sub>= 8  </style>  \n",
    "> <span style=\"color:blue\">−4x<sub>1</sub> + 5x<sub>2</sub> + 9x<sub>3</sub> =− 9</style>"
   ]
  },
  {
   "cell_type": "code",
   "execution_count": 334,
   "metadata": {},
   "outputs": [
    {
     "name": "stdout",
     "output_type": "stream",
     "text": [
      "Número de incognitas = 3\n",
      "Rango de la Matriz de coeficientes = 3\n",
      "Rango de la Matriz ampliada = 3\n"
     ]
    }
   ],
   "source": [
    "\n",
    "A = np.matrix([\n",
    "    [1,-2,1],\n",
    "    [0,2,-8],\n",
    "    [-4,5,9]\n",
    "])\n",
    "\n",
    "A_amp = np.matrix([\n",
    "    [1,-2,1,0],\n",
    "    [0,2,-8,8],\n",
    "    [-4,5,9,-9]\n",
    "])\n",
    "\n",
    "rankA     = np.linalg.matrix_rank(A)\n",
    "rankA_amp = np.linalg.matrix_rank(A_amp)\n",
    "\n",
    "print(\"Número de incognitas = 3\")\n",
    "print(\"Rango de la Matriz de coeficientes = \" + str(rankA))\n",
    "print(\"Rango de la Matriz ampliada = \" + str(rankA_amp))"
   ]
  },
  {
   "cell_type": "markdown",
   "metadata": {},
   "source": [
    "Como los rangos de la matriz de coeficientes y de la matriz ampliada son iguales y coinciden con el número de incógnitas podemos concluir que el sistema tiene una única solución.\n",
    "\n",
    "* Es un Sistema Compatible Determinado."
   ]
  },
  {
   "cell_type": "markdown",
   "metadata": {},
   "source": [
    "Sistema de ecuación 2\n",
    "> <span style=\"color:blue\">x<sub>2</sub> −4x<sub>3</sub> =8  </style>  \n",
    "> <span style=\"color:blue\">2x<sub>1</sub> −3x<sub>2</sub> + 2x<sub>3</sub> =1  </style>  \n",
    "> <span style=\"color:blue\">5x<sub>1</sub> −8x<sub>2</sub> + 7x<sub>3</sub> =1</style>"
   ]
  },
  {
   "cell_type": "code",
   "execution_count": 335,
   "metadata": {},
   "outputs": [
    {
     "name": "stdout",
     "output_type": "stream",
     "text": [
      "Número de incognitas = 3\n",
      "Rango de la Matriz de coeficientes = 2\n",
      "Rango de la Matriz ampliada = 3\n"
     ]
    }
   ],
   "source": [
    "A = np.matrix([\n",
    "    [0,1,-4],\n",
    "    [2,-3,2],\n",
    "    [5,-8,7]\n",
    "])\n",
    "\n",
    "A_amp = np.matrix([\n",
    "    [0,1,-4,8],\n",
    "    [2,-3,2,1],\n",
    "    [5,-8,7,1]\n",
    "])\n",
    "\n",
    "rankA     = np.linalg.matrix_rank(A)\n",
    "rankA_amp = np.linalg.matrix_rank(A_amp)\n",
    "\n",
    "print(\"Número de incognitas = 3\")\n",
    "print(\"Rango de la Matriz de coeficientes = \" + str(rankA))\n",
    "print(\"Rango de la Matriz ampliada = \" + str(rankA_amp))"
   ]
  },
  {
   "cell_type": "markdown",
   "metadata": {
    "collapsed": true
   },
   "source": [
    "Como los rangos de la matriz de coeficientes y de la matriz ampliada son distintos podemos asumir que el sistema no tiene solución.\n",
    "\n",
    "* Es un Sistema Incompatible."
   ]
  },
  {
   "cell_type": "markdown",
   "metadata": {},
   "source": [
    "Sistema de ecuación 3\n",
    "> <span style=\"color:blue\">x<sub>1</sub> +x<sub>3</sub> =2  </style>  \n",
    "> <span style=\"color:blue\">2x<sub>1</sub> +3x<sub>2</sub> + x<sub>3</sub> =3  </style>  \n",
    "> <span style=\"color:blue\">3x<sub>1</sub> +3x<sub>2</sub> + 2x<sub>3</sub> =5</style>"
   ]
  },
  {
   "cell_type": "code",
   "execution_count": 337,
   "metadata": {},
   "outputs": [
    {
     "name": "stdout",
     "output_type": "stream",
     "text": [
      "Número de incognitas = 3\n",
      "Rango de la Matriz de coeficientes = 2\n",
      "Rango de la Matriz ampliada = 2\n"
     ]
    }
   ],
   "source": [
    "A = np.matrix([\n",
    "    [1,0,1],\n",
    "    [2,3,1],\n",
    "    [3,3,2]\n",
    "])\n",
    "\n",
    "A_amp = np.matrix([\n",
    "    [1,0,1,2],\n",
    "    [2,3,1,3],\n",
    "    [3,3,2,5]\n",
    "])\n",
    "\n",
    "rankA     = np.linalg.matrix_rank(A)\n",
    "rankA_amp = np.linalg.matrix_rank(A_amp)\n",
    "\n",
    "print(\"Número de incognitas = 3\")\n",
    "print(\"Rango de la Matriz de coeficientes = \" + str(rankA))\n",
    "print(\"Rango de la Matriz ampliada = \" + str(rankA_amp))"
   ]
  },
  {
   "cell_type": "markdown",
   "metadata": {},
   "source": [
    "Como los rangos de la matriz de coeficientes y de la matriz ampliada son iguales pero es menor al número de incógnitas podemos concluir que el sistema tiene infinitas soluciones.\n",
    "\n",
    "* Es un Sistema Compatible Indeterminado."
   ]
  },
  {
   "cell_type": "markdown",
   "metadata": {},
   "source": [
    "<span style=\"color:blue\"> Ejercicio 9:  \n",
    "Comprobar que r(x,y) para un ángulo $\\theta$ es una función lineal.</style> "
   ]
  },
  {
   "cell_type": "markdown",
   "metadata": {},
   "source": [
    "Se define la función r([x,y]) = M ∗ [x, y] = función rotación $\\theta$:\n",
    "\n",
    "* r([1,0]) = [ cos$\\theta$, sin$\\theta$ ]\n",
    "* r([0,1]) = [ -sen$\\theta$, cos$\\theta$ ] \n",
    "\n",
    "* Por tanto la matriz M es:\n",
    "$\n",
    "  M =\n",
    "  \\left[ {\\begin{array}{cc}\n",
    "   cos\\theta & -sin\\theta \\\\\n",
    "   sin\\theta & cos\\theta \\\\\n",
    "  \\end{array} } \\right]\n",
    "$\n",
    "\n",
    "r: $\\mathbb{R}$<sup>2</sup> $\\rightarrow$ $\\mathbb{R}$<sup>2</sup>  \n",
    "r([x,y]) = M ∗ [x, y] = (x*cos$\\theta$ - y*sin$\\theta$, x*sin$\\theta$ + y*cos$\\theta$)\n"
   ]
  },
  {
   "cell_type": "markdown",
   "metadata": {},
   "source": [
    "En primer lugar podemos observar que la imagen de (0,0) es (0,0). \\\\\n",
    "Para verificar que r([x,y]) es una función lineal se tiene que cumplir las siguientes propiedades:\n",
    "\n",
    "* Propiedad 1: r(u+v) = r(u) + r(v)\n",
    "* Propiedad 2: r(k.v) = k * r(v)\n"
   ]
  },
  {
   "cell_type": "markdown",
   "metadata": {},
   "source": [
    "u = ($u_{1}$, $u_{2}$)  \n",
    "v = ($v_{1}$, $v_{2}$)\n",
    "\n",
    "u + v = ($u_{1}$+$v_{1}$, $u_{2}$+$v_{2}$)\n",
    "\n",
    "r(u + v) =  \n",
    "= ($u_{1}$+$v_{1}$)*cos$\\theta$ - ($u_{2}$+$v_{2}$)*sin$\\theta$, ($u_{1}$+$v_{1}$)*sin$\\theta$ + ($u_{2}$+$v_{2}$)* cos$\\theta$ =  \n",
    "= $u_{1}$cos$\\theta$ + $v_{1}$cos$\\theta$ - $u_{2}$sin$\\theta$ - $v_{2}$sin$\\theta$, $u_{1}$sin$\\theta$ + $v_{1}$sin$\\theta$ + $u_{2}$cos$\\theta$ + $v_{2}$cos$\\theta$ =  \n",
    "= $u_{1}$cos$\\theta$ - $u_{2}$sin$\\theta$ + $v_{1}$cos$\\theta$ - $v_{2}$sin$\\theta$, $u_{1}$sin$\\theta$ + $u_{2}$cos$\\theta$ + $v_{1}$sin$\\theta$ + $v_{2}$cos$\\theta$ =  \n",
    "= ($u_{1}$cos$\\theta$ - $u_{2}$sin$\\theta$, $u_{1}$sin$\\theta$ + $u_{2}$cos$\\theta$) + ($v_{1}$cos$\\theta$ - $v_{2}$sin$\\theta$, $v_{1}$sin$\\theta$ + $v_{2}$cos$\\theta$ ) =  \n",
    "= r(u) + r(v)"
   ]
  },
  {
   "cell_type": "markdown",
   "metadata": {},
   "source": [
    "** Se cumple la Propiedad 1. **"
   ]
  },
  {
   "cell_type": "markdown",
   "metadata": {},
   "source": [
    "k * u = (k$u_{1}$, k$u_{2}$)\n",
    "\n",
    "r(k*u) = (k * $u_{1}$cos$\\theta$ - k * $u_{2}$sin$\\theta$, k * $u_{1}$sin$\\theta$ + k * $u_{2}$cos$\\theta$) =  \n",
    "= (k ( $u_{1}$cos$\\theta$ - $u_{2}$sin$\\theta$), k ( $u_{1}$sin$\\theta$ - $u_{2}$cos$\\theta$)) =  \n",
    "= k (x*cos$\\theta$ - y*sin$\\theta$, x*sin$\\theta$ + y*cos$\\theta$) =  \n",
    "= k r(u)"
   ]
  },
  {
   "cell_type": "markdown",
   "metadata": {},
   "source": [
    "** Se cumple la Propiedad 2. **"
   ]
  },
  {
   "cell_type": "markdown",
   "metadata": {},
   "source": [
    "** Por tanto la función rotación es LINEAL. **"
   ]
  },
  {
   "cell_type": "markdown",
   "metadata": {},
   "source": [
    "<span style=\"color:blue\"> Ejercicio 10:  \n",
    "¿Cuál es la representación coordenada del vector v= [6, 3, 2, 5] en términos de los vectores [2, 2, 2, 3], [1, 0, −1, 0], [0, 1, 0, 1]?</style> "
   ]
  },
  {
   "cell_type": "markdown",
   "metadata": {},
   "source": [
    "## De forma analítica:"
   ]
  },
  {
   "cell_type": "markdown",
   "metadata": {},
   "source": [
    "\n",
    "x = [2, 2, 2, 3]\n",
    "y = [1, 0, -1, 0]\n",
    "z = [0, 1, 0, 1]\n",
    "v = [6, 3, 2, 5]\n",
    "\n",
    "A*x + B*y + C*z = v\n",
    "\n",
    "2A + B = 6  \n",
    "2A + C = 3  \n",
    "2A - B = 2  \n",
    "3A + C = 5  \n",
    "\n",
    "A = 2  \n",
    "B = 2  \n",
    "C = -1"
   ]
  },
  {
   "cell_type": "markdown",
   "metadata": {},
   "source": [
    "## De forma programática:"
   ]
  },
  {
   "cell_type": "code",
   "execution_count": 340,
   "metadata": {},
   "outputs": [
    {
     "name": "stdout",
     "output_type": "stream",
     "text": [
      "El rango de la matriz de coeficientes es = 3\n",
      "El rango de la matriz ampliada es = 3\n"
     ]
    }
   ],
   "source": [
    "\n",
    "A = np.matrix([\n",
    "    [2,1,0],\n",
    "    [2,0,1],\n",
    "    [2,-1,0],\n",
    "    [3,0,1]\n",
    "])\n",
    "A_amp = np.matrix([\n",
    "    [2,1,0,6],\n",
    "    [2,0,1,3],\n",
    "    [2,-1,0,2],\n",
    "    [3,0,1,5]\n",
    "])\n",
    "detA_amp = np.linalg.det(A_amp)\n",
    "detA_amp\n",
    "\n",
    "print(\"El rango de la matriz de coeficientes es = \" + str(np.linalg.matrix_rank(A)))\n",
    "print(\"El rango de la matriz ampliada es = \" + str(np.linalg.matrix_rank(A_amp)))"
   ]
  },
  {
   "cell_type": "markdown",
   "metadata": {},
   "source": [
    "Es un sistema compatible determinado porque tenemos 3 incógnitas en el sistema y el rango de la matriz de coeficientes y la matriz ampliada es 3 también.\n",
    "\n",
    "+ Como la matriz A no es cuadrada no es posible aplicar las funciones de determinante, inversa o resolución (solve)\n",
    "+ Una opción es eliminar aleatoriamente una ecuación del sistema para hacer la matriz A cuadrada. En este caso se elimina la tercera ecuacion"
   ]
  },
  {
   "cell_type": "code",
   "execution_count": 345,
   "metadata": {},
   "outputs": [
    {
     "data": {
      "text/plain": [
       "[2.0, 2.0, -1.0]"
      ]
     },
     "execution_count": 345,
     "metadata": {},
     "output_type": "execute_result"
    }
   ],
   "source": [
    "\n",
    "A = np.matrix([\n",
    "    [2,1,0],\n",
    "    [2,0,1],\n",
    "    [3,0,1]\n",
    "])\n",
    "\n",
    "B = np.matrix([\n",
    "    [6],\n",
    "    [3],\n",
    "    [5]\n",
    "])\n",
    "\n",
    "#Resolución directa:\n",
    "sol1 = np.linalg.solve(A,B)\n",
    "\n",
    "#Resolucion matriz inversa:\n",
    "invA = np.linalg.inv(A)\n",
    "sol2 = invA * B\n",
    "#Resolución metodo cramer:\n",
    "AX = np.matrix([\n",
    "    [6,1,0],\n",
    "    [3,0,1],\n",
    "    [5,0,1]\n",
    "])\n",
    "AY = np.matrix([\n",
    "    [2,6,0],\n",
    "    [2,3,1],\n",
    "    [3,5,1]\n",
    "])\n",
    "AZ = np.matrix([\n",
    "    [2,1,6],\n",
    "    [2,0,3],\n",
    "    [3,0,5]\n",
    "])\n",
    "\n",
    "x = np.linalg.det(AX) / np.linalg.det(A)\n",
    "y = np.linalg.det(AY) / np.linalg.det(A)\n",
    "z = np.linalg.det(AZ) / np.linalg.det(A)\n",
    "\n",
    "sol = ([round(x), round(y), round(z)])\n",
    "sol"
   ]
  },
  {
   "cell_type": "markdown",
   "metadata": {},
   "source": [
    "<span style=\"color:blue\"> Ejercicio 11:  \n",
    "Supongamos que queremos diseñar la red de internet para el otro campus universitario.  \n",
    "La red debe lograr la misma conectividad que el grafo de entrada.  \n",
    "Una arista representa un posible cable.  \n",
    "El peso de la arista es el coste de instalar el cable.  \n",
    "Nuestro objetivo es minimizar el coste total, usando el algoritmo Grow y el algoritmo Shrink.  </style> "
   ]
  },
  {
   "cell_type": "markdown",
   "metadata": {},
   "source": [
    "* Aristas : Pesos  \n",
    " A = {Pembroke Campus, Athletic Complex} : 7  \n",
    " B = {Pembroke Campus, Bio-Med} : 2  \n",
    " C = {Bio-Med, Athletic Complex} : 9  "
   ]
  },
  {
   "cell_type": "markdown",
   "metadata": {},
   "source": [
    "Algoritmo Grow:\n",
    "\n",
    "- Aristas en orden creciente según pesos: B, A, C\n",
    "\n",
    "#1  \n",
    "S: = ∅ \n",
    "\n",
    "#2  \n",
    "S: = {B}\n",
    "\n",
    "#3  \n",
    "Hay que incluir el nodo Athletic Complex a través de la arista A o C.\n",
    "Se selecciona el de menor peso.  \n",
    "S: = {B,A}"
   ]
  },
  {
   "cell_type": "markdown",
   "metadata": {},
   "source": [
    "Algoritmo Shrink:\n",
    "\n",
    "- Aristas en orden decreciente según pesos: C, A, B\n",
    "\n",
    "#1  \n",
    "S: = {C, A, B}\n",
    "\n",
    "#2  \n",
    "Se puede eliminar la arista C porque existe un camino alternativo\n",
    "S: = {A, B}\n",
    "\n",
    "#3  \n",
    "No se puede eliminar la arista A porque entonces el nodo Athletic Complex quedaría desconectado.\n",
    "Por tanto, el mínimo bosque generador del grafo quedaría:\n",
    "S: = {B,A}"
   ]
  },
  {
   "cell_type": "markdown",
   "metadata": {},
   "source": [
    "<span style=\"color:blue\"> Ejercicio 12:  \n",
    "Sea la matriz $\n",
    "  M=\n",
    "  \\left[ {\\begin{array}{cc}\n",
    "   1 & 0  & 0 & 5 \\\\\n",
    "   0 & 2  & 0 & 7 \\\\\n",
    "   0 & 0  & 3 & 9 \\\\\n",
    "  \\end{array} } \\right]\n",
    "$. Calcular el rango por filas y por columnas usando Python.</style> "
   ]
  },
  {
   "cell_type": "code",
   "execution_count": 3,
   "metadata": {},
   "outputs": [
    {
     "data": {
      "text/plain": [
       "3"
      ]
     },
     "execution_count": 3,
     "metadata": {},
     "output_type": "execute_result"
    }
   ],
   "source": [
    "M = np.matrix([\n",
    "    [1,0,0,5],\n",
    "    [0,2,0,7],\n",
    "    [0,0,3,9]\n",
    "])\n",
    "\n",
    "np.linalg.matrix_rank(M)\n"
   ]
  },
  {
   "cell_type": "markdown",
   "metadata": {
    "collapsed": true
   },
   "source": [
    "<span style=\"color:blue\"> Ejercicio 13 (opcional):  \n",
    "Crea un algoritmo que transforme una matriz cualquiera en GF(2) en una matriz escalonada.</style> "
   ]
  },
  {
   "cell_type": "code",
   "execution_count": null,
   "metadata": {
    "collapsed": true
   },
   "outputs": [],
   "source": []
  },
  {
   "cell_type": "markdown",
   "metadata": {},
   "source": [
    "<span style=\"color:blue\"> Ejercicio 14:  \n",
    "Modificar lo necesario en los algoritmos para que funcionen y calculen el problema de la casa en llamas.</style>"
   ]
  },
  {
   "cell_type": "code",
   "execution_count": 67,
   "metadata": {
    "collapsed": true
   },
   "outputs": [],
   "source": [
    "# Se importa la función division para que la division no devuelva entero (en python2)\n",
    "from __future__ import division\n",
    "\n",
    "def proyeccion_paralela(b, a):\n",
    "    sigma = b.dot(a)/a.dot(a) if np.linalg.norm(z) > 10^-20 else 0\n",
    "    return sigma * a\n",
    "\n",
    "def proyeccion_ortogonal(b, a):\n",
    "    return b - proyeccion_paralela(b, a)\n"
   ]
  },
  {
   "cell_type": "code",
   "execution_count": 70,
   "metadata": {},
   "outputs": [
    {
     "name": "stdout",
     "output_type": "stream",
     "text": [
      "('Proyeccion Paralela de a sobre b:', array([ 2.4,  0.8]))\n",
      "('Proyeccion Perpendicular de a sobre b:', array([-1.4,  4.2]))\n"
     ]
    }
   ],
   "source": [
    "a = np.array([6,2])\n",
    "b = np.array([2,4])\n",
    "\n",
    "print(\"Proyeccion Paralela de a sobre b:\", proyeccion_paralela(b, a))\n",
    "print(\"Proyeccion Perpendicular de a sobre b:\", proyeccion_ortogonal(b, a))"
   ]
  }
 ],
 "metadata": {
  "kernelspec": {
   "display_name": "Python 2",
   "language": "python",
   "name": "python2"
  },
  "language_info": {
   "codemirror_mode": {
    "name": "ipython",
    "version": 2
   },
   "file_extension": ".py",
   "mimetype": "text/x-python",
   "name": "python",
   "nbconvert_exporter": "python",
   "pygments_lexer": "ipython2",
   "version": "2.7.14"
  }
 },
 "nbformat": 4,
 "nbformat_minor": 2
}
